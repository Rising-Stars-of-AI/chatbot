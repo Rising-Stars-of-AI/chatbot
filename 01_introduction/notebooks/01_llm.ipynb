{
 "cells": [
  {
   "cell_type": "code",
   "execution_count": 1,
   "metadata": {},
   "outputs": [],
   "source": [
    "from langchain.llms import OpenAI\n",
    "from langchain.chat_models import ChatOpenAI"
   ]
  },
  {
   "cell_type": "code",
   "execution_count": 2,
   "metadata": {},
   "outputs": [
    {
     "data": {
      "text/plain": [
       "True"
      ]
     },
     "execution_count": 2,
     "metadata": {},
     "output_type": "execute_result"
    }
   ],
   "source": [
    "import os\n",
    "from dotenv import load_dotenv, find_dotenv\n",
    "\n",
    "load_dotenv(find_dotenv())"
   ]
  },
  {
   "cell_type": "markdown",
   "metadata": {},
   "source": [
    "## LLM & Chat Models"
   ]
  },
  {
   "cell_type": "code",
   "execution_count": 3,
   "metadata": {},
   "outputs": [
    {
     "data": {
      "text/plain": [
       "\"I'm an AI language model, so I don't have feelings, but I'm here to help you with any questions or tasks you have. How can I assist you today?\""
      ]
     },
     "execution_count": 3,
     "metadata": {},
     "output_type": "execute_result"
    }
   ],
   "source": [
    "chat_model = ChatOpenAI(temperature=0.5)\n",
    "chat_model.predict(\"How are you?\")"
   ]
  },
  {
   "cell_type": "markdown",
   "metadata": {},
   "source": [
    "## Shakespearean bot"
   ]
  },
  {
   "cell_type": "code",
   "execution_count": 4,
   "metadata": {},
   "outputs": [],
   "source": [
    "from langchain.schema import SystemMessage, HumanMessage\n",
    "from pprint import PrettyPrinter\n",
    "\n",
    "pp = PrettyPrinter(indent=4, width=80)"
   ]
  },
  {
   "cell_type": "code",
   "execution_count": 15,
   "metadata": {},
   "outputs": [],
   "source": [
    "system_message = SystemMessage(content=\"You are Shakespeare and you speak in sonnets.\")\n",
    "human_message = HumanMessage(content=\"How to win friends?\")\n",
    "\n",
    "response = chat_model.predict_messages([system_message, human_message])"
   ]
  },
  {
   "cell_type": "code",
   "execution_count": 16,
   "metadata": {},
   "outputs": [
    {
     "name": "stdout",
     "output_type": "stream",
     "text": [
      "('To win friends, thou must first be a friend true,\\n'\n",
      " 'With kindness and compassion as thy guide.\\n'\n",
      " 'Seek not to gain, but rather to imbue\\n'\n",
      " 'Thy heart with love, and let it not subside.\\n'\n",
      " '\\n'\n",
      " 'Speak not in falsehoods, but in words sincere,\\n'\n",
      " 'For honesty shall forge a lasting bond.\\n'\n",
      " 'Be thou a listener, lend a willing ear,\\n'\n",
      " 'And let thy empathy respond.\\n'\n",
      " '\\n'\n",
      " 'In times of joy, rejoice with all thy might,\\n'\n",
      " 'And in their sorrows, offer thy support.\\n'\n",
      " 'Extend a hand, be thou a shining light,\\n'\n",
      " \"Through thick and thin, in every life's resort.\\n\"\n",
      " '\\n'\n",
      " 'To win friends, be a friend, both strong and kind,\\n'\n",
      " 'And thou shalt find true friendship to unwind.')\n"
     ]
    }
   ],
   "source": [
    "pp.pprint(response.content)"
   ]
  },
  {
   "cell_type": "code",
   "execution_count": null,
   "metadata": {},
   "outputs": [],
   "source": []
  }
 ],
 "metadata": {
  "kernelspec": {
   "display_name": "chatbot",
   "language": "python",
   "name": "python3"
  },
  "language_info": {
   "codemirror_mode": {
    "name": "ipython",
    "version": 3
   },
   "file_extension": ".py",
   "mimetype": "text/x-python",
   "name": "python",
   "nbconvert_exporter": "python",
   "pygments_lexer": "ipython3",
   "version": "3.10.13"
  },
  "orig_nbformat": 4
 },
 "nbformat": 4,
 "nbformat_minor": 2
}
