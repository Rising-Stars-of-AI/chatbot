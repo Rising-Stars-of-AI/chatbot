{
 "cells": [
  {
   "cell_type": "markdown",
   "metadata": {},
   "source": [
    "## Digital Assistants\n"
   ]
  },
  {
   "cell_type": "markdown",
   "metadata": {},
   "source": [
    "### Math Problem Solver in 3 steps\n"
   ]
  },
  {
   "cell_type": "code",
   "execution_count": 7,
   "metadata": {},
   "outputs": [],
   "source": [
    "from openai import OpenAI\n",
    "client = OpenAI()\n",
    "assistant = client.beta.assistants.create(\n",
    "    name = \"Whiz\",\n",
    "    instructions = \"You are a personal math tutor.  Write and run code to answer math questions.\",\n",
    "    tools = [ {\"type\": \"code_interpreter\"}],\n",
    "    model = \"gpt-3.5-turbo-1106\"\n",
    ")\n",
    "thread = client.beta.threads.create()\n",
    "query = \"Solve this problem: 113x^2 + 97x + 203 = 0\"\n",
    "message = client.beta.threads.messages.create(\n",
    "    thread_id=thread.id,\n",
    "    role = \"user\",\n",
    "    content = query\n",
    ")\n",
    "run = client.beta.threads.runs.create(\n",
    "    thread_id=thread.id,\n",
    "    assistant_id=assistant.id\n",
    ")"
   ]
  },
  {
   "cell_type": "code",
   "execution_count": 8,
   "metadata": {},
   "outputs": [
    {
     "name": "stdout",
     "output_type": "stream",
     "text": [
      "user: Solve this problem: 113x^2 + 97x + 203 = 0\n",
      "assistant: To solve the quadratic equation 113x^2 + 97x + 203 = 0, we can use the quadratic formula:\n",
      "\\[ x = \\frac{{-b \\pm \\sqrt{{b^2 - 4ac}}}}{{2a}} \\]\n",
      "where a, b, and c are the coefficients of the quadratic equation.\n",
      "\n",
      "Let me calculate the solutions for you.\n"
     ]
    }
   ],
   "source": [
    "run = client.beta.threads.runs.retrieve(\n",
    "    thread_id=thread.id,\n",
    "    run_id=run.id\n",
    ")\n",
    "messages = client.beta.threads.messages.list(\n",
    "    thread_id=thread.id\n",
    ")\n",
    "for m in reversed(messages.data):\n",
    "    print(f\"{m.role}: {m.content[0].text.value}\")\n"
   ]
  },
  {
   "cell_type": "code",
   "execution_count": 9,
   "metadata": {},
   "outputs": [
    {
     "name": "stdout",
     "output_type": "stream",
     "text": [
      "user: Solve this problem: 113x^2 + 97x + 203 = 0\n",
      "assistant: To solve the quadratic equation 113x^2 + 97x + 203 = 0, we can use the quadratic formula:\n",
      "\\[ x = \\frac{{-b \\pm \\sqrt{{b^2 - 4ac}}}}{{2a}} \\]\n",
      "where a, b, and c are the coefficients of the quadratic equation.\n",
      "\n",
      "Let me calculate the solutions for you.\n",
      "assistant: The solutions to the quadratic equation 113x^2 + 97x + 203 = 0 are:\n",
      "\\[ x_1 = -0.429 + 1.270i \\]\n",
      "\\[ x_2 = -0.429 - 1.270i \\]\n",
      "\n",
      "Here, \"i\" represents the imaginary unit. Therefore, the solutions are complex numbers.\n"
     ]
    }
   ],
   "source": [
    "run = client.beta.threads.runs.retrieve(\n",
    "    thread_id=thread.id,\n",
    "    run_id=run.id\n",
    ")\n",
    "messages = client.beta.threads.messages.list(\n",
    "    thread_id=thread.id\n",
    ")\n",
    "for m in reversed(messages.data):\n",
    "    print(f\"{m.role}: {m.content[0].text.value}\")"
   ]
  },
  {
   "cell_type": "markdown",
   "metadata": {},
   "source": [
    "### Math Problem Solver in 1 step\n"
   ]
  },
  {
   "cell_type": "code",
   "execution_count": 11,
   "metadata": {},
   "outputs": [
    {
     "name": "stdout",
     "output_type": "stream",
     "text": [
      "\tstatus=queued\n",
      "\tstatus=queued\n",
      "\tstatus=in_progress\n",
      "\tstatus=in_progress\n",
      "\tstatus=in_progress\n",
      "\tstatus=in_progress\n",
      "\tstatus=in_progress\n",
      "\tstatus=in_progress\n",
      "\tstatus=in_progress\n",
      "\tstatus=in_progress\n",
      "\tstatus=in_progress\n",
      "\tstatus=in_progress\n",
      "\tstatus=in_progress\n",
      "\tstatus=in_progress\n",
      "\tstatus=in_progress\n",
      "\tstatus=in_progress\n",
      "\tstatus=in_progress\n",
      "\tstatus=in_progress\n",
      "\tstatus=in_progress\n",
      "\tstatus=in_progress\n",
      "\tstatus=in_progress\n",
      "\tstatus=in_progress\n",
      "\tstatus=in_progress\n",
      "\tstatus=in_progress\n",
      "\tstatus=in_progress\n",
      "\tstatus=in_progress\n",
      "\tstatus=in_progress\n",
      "\tstatus=in_progress\n",
      "\tstatus=in_progress\n",
      "\tstatus=in_progress\n",
      "\tstatus=in_progress\n",
      "\tstatus=in_progress\n",
      "\tstatus=in_progress\n",
      "\tstatus=in_progress\n",
      "\tstatus=in_progress\n",
      "\tstatus=in_progress\n",
      "\tstatus=in_progress\n",
      "\tstatus=in_progress\n",
      "\tstatus=in_progress\n",
      "\tstatus=in_progress\n",
      "\tstatus=in_progress\n",
      "\tstatus=in_progress\n",
      "\tstatus=in_progress\n",
      "\tstatus=in_progress\n",
      "\tstatus=in_progress\n",
      "\tstatus=in_progress\n",
      "\tstatus=in_progress\n",
      "\tstatus=in_progress\n",
      "\tstatus=in_progress\n",
      "\tstatus=in_progress\n",
      "\tstatus=in_progress\n",
      "\tstatus=in_progress\n",
      "\tstatus=in_progress\n",
      "\tstatus=in_progress\n",
      "\tstatus=in_progress\n",
      "\tstatus=in_progress\n",
      "\tstatus=in_progress\n",
      "\tstatus=in_progress\n",
      "\tstatus=in_progress\n",
      "\tstatus=in_progress\n",
      "\tstatus=in_progress\n",
      "user: Solve this problem: 113x^2 + 97x + 203 = 0\n",
      "assistant: To solve the quadratic equation \\(113x^2 + 97x + 203 = 0\\), we can use the quadratic formula:\n",
      "\n",
      "\\[ x = \\frac{{-b \\pm \\sqrt{{b^2 - 4ac}}}}{{2a}} \\]\n",
      "\n",
      "Where:\n",
      "- a = 113\n",
      "- b = 97\n",
      "- c = 203\n",
      "\n",
      "Let's calculate the values of x.\n",
      "assistant: The solutions to the equation \\(113x^2 + 97x + 203 = 0\\) are:\n",
      "\n",
      "\\[ x_1 = -0.429 - 1.27i \\]\n",
      "\\[ x_2 = -0.429 + 1.27i \\]\n",
      "\n",
      "Where \"i\" represents the imaginary unit. Therefore, the solutions are complex numbers.\n"
     ]
    }
   ],
   "source": [
    "from openai import OpenAI\n",
    "client = OpenAI()\n",
    "assistant = client.beta.assistants.create(\n",
    "    name = \"Whiz\",\n",
    "    instructions = \"You are a personal math tutor.  Write and run code to answer math questions.\",\n",
    "    tools = [ {\"type\": \"code_interpreter\"}],\n",
    "    model = \"gpt-3.5-turbo-1106\"\n",
    ")\n",
    "thread = client.beta.threads.create()\n",
    "query = \"Solve this problem: 113x^2 + 97x + 203 = 0\"\n",
    "message = client.beta.threads.messages.create(\n",
    "    thread_id=thread.id,\n",
    "    role = \"user\",\n",
    "    content = query\n",
    ")\n",
    "run = client.beta.threads.runs.create(\n",
    "    thread_id=thread.id,\n",
    "    assistant_id=assistant.id\n",
    ")\n",
    "while run.status != \"completed\":\n",
    "    print(f\"\\tstatus={run.status}\")\n",
    "    run = client.beta.threads.runs.retrieve(\n",
    "        thread_id=thread.id,\n",
    "        run_id=run.id\n",
    "    )\n",
    "messages = client.beta.threads.messages.list(\n",
    "    thread_id=thread.id\n",
    ")\n",
    "for m in reversed(messages.data):\n",
    "    print(f\"{m.role}: {m.content[0].text.value}\")"
   ]
  },
  {
   "cell_type": "code",
   "execution_count": null,
   "metadata": {},
   "outputs": [],
   "source": []
  }
 ],
 "metadata": {
  "kernelspec": {
   "display_name": "memgpt",
   "language": "python",
   "name": "python3"
  },
  "language_info": {
   "codemirror_mode": {
    "name": "ipython",
    "version": 3
   },
   "file_extension": ".py",
   "mimetype": "text/x-python",
   "name": "python",
   "nbconvert_exporter": "python",
   "pygments_lexer": "ipython3",
   "version": "3.10.13"
  }
 },
 "nbformat": 4,
 "nbformat_minor": 2
}
