{
 "cells": [
  {
   "cell_type": "markdown",
   "metadata": {},
   "source": [
    "# Flight Lookup Assistant\n"
   ]
  },
  {
   "cell_type": "code",
   "execution_count": 1,
   "metadata": {},
   "outputs": [],
   "source": [
    "from openai import OpenAI\n",
    "import os\n",
    "from dotenv import load_dotenv, find_dotenv\n",
    "\n",
    "load_dotenv(find_dotenv())\n",
    "\n",
    "client = OpenAI()"
   ]
  },
  {
   "cell_type": "markdown",
   "metadata": {},
   "source": [
    "## 01. Define local function\n"
   ]
  },
  {
   "cell_type": "code",
   "execution_count": 2,
   "metadata": {},
   "outputs": [],
   "source": [
    "import requests\n",
    "import os\n",
    "\n",
    "FLIGHT_API_KEY = \"<key from aviationstack.com>\" # os.getenv(\"FLIGHT_API_KEY\")\n",
    "\n",
    "def get_flight_details(flight_number):\n",
    "    url = f\"http://api.aviationstack.com/v1/flights?access_key={FLIGHT_API_KEY}&flight_iata={flight_number}\"\n",
    "    response = requests.get(url=url)\n",
    "    \n",
    "    flight_data = response.json()[\"data\"][0]\n",
    "    flight_status = flight_data[\"flight_status\"]\n",
    "    \n",
    "    actual_landing_date = flight_data[\"arrival\"][\"actual\"]\n",
    "    estimated_landing_date = flight_data[\"arrival\"][\"estimated\"]\n",
    "    airline = flight_data[\"airline\"][\"name\"]\n",
    "    \n",
    "    return f\"\"\"Flight: {flight_number}\n",
    "        - Airline: {airline}\n",
    "        - Flight status: {flight_status}\n",
    "        - Estimated arrival: {estimated_landing_date}\n",
    "        - Actual arrival: {actual_landing_date}\n",
    "    \"\"\""
   ]
  },
  {
   "cell_type": "markdown",
   "metadata": {},
   "source": [
    "## 02. Create an Assistant\n"
   ]
  },
  {
   "cell_type": "code",
   "execution_count": 5,
   "metadata": {},
   "outputs": [
    {
     "data": {
      "text/plain": [
       "'asst_YoUYLAS6hvgWYbBol4p2ZSWt'"
      ]
     },
     "execution_count": 5,
     "metadata": {},
     "output_type": "execute_result"
    }
   ],
   "source": [
    "assistant = client.beta.assistants.create(\n",
    "    name=\"Flight Bot\",    \n",
    "    instructions=\"You are a flight information bot. Use the provided functions to answer questions.\",\n",
    "    model=\"gpt-4-1106-preview\",\n",
    "    tools=[{\n",
    "        \"type\": \"function\",\n",
    "        \"function\": {\n",
    "            \"name\": \"get_flight_details\",\n",
    "            \"description\": \"This function looks up flight details information\",\n",
    "            \"parameters\": {\n",
    "                \"type\": \"object\",\n",
    "                \"properties\": {\n",
    "                \"flight_number\": {\n",
    "                    \"type\": \"string\",\n",
    "                    \"description\": \"The flight number\"\n",
    "                }\n",
    "                },\n",
    "                \"required\": [\"flight_number\"]\n",
    "            }\n",
    "        }\n",
    "    }]\n",
    ")\n",
    "assistant.id"
   ]
  },
  {
   "cell_type": "markdown",
   "metadata": {},
   "source": [
    "## 03. Create Conversational Thread\n"
   ]
  },
  {
   "cell_type": "code",
   "execution_count": 6,
   "metadata": {},
   "outputs": [
    {
     "data": {
      "text/plain": [
       "Thread(id='thread_jXWCSEgAUQW70ktbgGbxrDun', created_at=1702871275, metadata={}, object='thread')"
      ]
     },
     "execution_count": 6,
     "metadata": {},
     "output_type": "execute_result"
    }
   ],
   "source": [
    "# Create a thread\n",
    "\n",
    "thread = client.beta.threads.create()\n",
    "thread"
   ]
  },
  {
   "cell_type": "markdown",
   "metadata": {},
   "source": [
    "## 04. Instantiate a Run Object\n"
   ]
  },
  {
   "cell_type": "code",
   "execution_count": 7,
   "metadata": {},
   "outputs": [
    {
     "data": {
      "text/plain": [
       "Run(id='run_cwAXySYI4S854LxYzgH1M44w', assistant_id='asst_YoUYLAS6hvgWYbBol4p2ZSWt', cancelled_at=None, completed_at=None, created_at=1702871328, expires_at=1702871928, failed_at=None, file_ids=[], instructions='When is flight UA2042 arriving?', last_error=None, metadata={}, model='gpt-4-1106-preview', object='thread.run', required_action=None, started_at=None, status='queued', thread_id='thread_jXWCSEgAUQW70ktbgGbxrDun', tools=[ToolAssistantToolsFunction(function=FunctionDefinition(name='get_flight_details', parameters={'type': 'object', 'properties': {'flight_number': {'type': 'string', 'description': 'The flight number'}}, 'required': ['flight_number']}, description='This function looks up flight details information'), type='function')])"
      ]
     },
     "execution_count": 7,
     "metadata": {},
     "output_type": "execute_result"
    }
   ],
   "source": [
    "run = client.beta.threads.runs.create(\n",
    "    thread_id=thread.id,\n",
    "    assistant_id=assistant.id, \n",
    "    instructions=\"When is flight UA2042 arriving?\"\n",
    ")\n",
    "run"
   ]
  },
  {
   "cell_type": "code",
   "execution_count": 8,
   "metadata": {},
   "outputs": [
    {
     "data": {
      "text/plain": [
       "'requires_action'"
      ]
     },
     "execution_count": 8,
     "metadata": {},
     "output_type": "execute_result"
    }
   ],
   "source": [
    "run = client.beta.threads.runs.retrieve(\n",
    "    thread_id=thread.id,\n",
    "    run_id=run.id\n",
    ")\n",
    "run.status"
   ]
  },
  {
   "cell_type": "markdown",
   "metadata": {},
   "source": [
    "## 05. Divert the run to call local function\n"
   ]
  },
  {
   "cell_type": "code",
   "execution_count": 9,
   "metadata": {},
   "outputs": [],
   "source": [
    "import json\n",
    "\n",
    "def get_outputs_for_tool_call(tool_call):\n",
    "    flight_number = json.loads(tool_call.function.arguments)[\"flight_number\"]\n",
    "    flight_details = get_flight_details(flight_number)\n",
    "    return {\n",
    "        \"tool_call_id\": tool_call.id,\n",
    "        \"output\": flight_details\n",
    "    }"
   ]
  },
  {
   "cell_type": "code",
   "execution_count": 10,
   "metadata": {},
   "outputs": [
    {
     "data": {
      "text/plain": [
       "Run(id='run_cwAXySYI4S854LxYzgH1M44w', assistant_id='asst_YoUYLAS6hvgWYbBol4p2ZSWt', cancelled_at=None, completed_at=None, created_at=1702871328, expires_at=1702871928, failed_at=None, file_ids=[], instructions='When is flight UA2042 arriving?', last_error=None, metadata={}, model='gpt-4-1106-preview', object='thread.run', required_action=RequiredAction(submit_tool_outputs=RequiredActionSubmitToolOutputs(tool_calls=[RequiredActionFunctionToolCall(id='call_gMIwXLRJ8iLsyEbNFgTWHHKF', function=Function(arguments='{\"flight_number\": \"UA2042\"}', name='get_flight_details'), type='function')]), type='submit_tool_outputs'), started_at=1702871328, status='requires_action', thread_id='thread_jXWCSEgAUQW70ktbgGbxrDun', tools=[ToolAssistantToolsFunction(function=FunctionDefinition(name='get_flight_details', parameters={'type': 'object', 'properties': {'flight_number': {'type': 'string', 'description': 'The flight number'}}, 'required': ['flight_number']}, description='This function looks up flight details information'), type='function')])"
      ]
     },
     "execution_count": 10,
     "metadata": {},
     "output_type": "execute_result"
    }
   ],
   "source": [
    "run"
   ]
  },
  {
   "cell_type": "code",
   "execution_count": 11,
   "metadata": {},
   "outputs": [],
   "source": [
    "tool_calls = run.required_action.submit_tool_outputs.tool_calls"
   ]
  },
  {
   "cell_type": "code",
   "execution_count": 12,
   "metadata": {},
   "outputs": [
    {
     "data": {
      "text/plain": [
       "[RequiredActionFunctionToolCall(id='call_gMIwXLRJ8iLsyEbNFgTWHHKF', function=Function(arguments='{\"flight_number\": \"UA2042\"}', name='get_flight_details'), type='function')]"
      ]
     },
     "execution_count": 12,
     "metadata": {},
     "output_type": "execute_result"
    }
   ],
   "source": [
    "tool_calls"
   ]
  },
  {
   "cell_type": "code",
   "execution_count": 13,
   "metadata": {},
   "outputs": [],
   "source": [
    "tool_outputs = map(get_outputs_for_tool_call, tool_calls)"
   ]
  },
  {
   "cell_type": "code",
   "execution_count": 14,
   "metadata": {},
   "outputs": [
    {
     "data": {
      "text/plain": [
       "[{'tool_call_id': 'call_gMIwXLRJ8iLsyEbNFgTWHHKF',\n",
       "  'output': 'Flight: UA2042\\n        - Airline: United Airlines\\n        - Flight status: landed\\n        - Estimated arrival: 2023-12-17T13:00:00+00:00\\n        - Actual arrival: 2023-12-17T13:07:00+00:00\\n    '}]"
      ]
     },
     "execution_count": 14,
     "metadata": {},
     "output_type": "execute_result"
    }
   ],
   "source": [
    "list(tool_outputs)"
   ]
  },
  {
   "cell_type": "code",
   "execution_count": null,
   "metadata": {},
   "outputs": [],
   "source": []
  }
 ],
 "metadata": {
  "kernelspec": {
   "display_name": "genai",
   "language": "python",
   "name": "python3"
  },
  "language_info": {
   "codemirror_mode": {
    "name": "ipython",
    "version": 3
   },
   "file_extension": ".py",
   "mimetype": "text/x-python",
   "name": "python",
   "nbconvert_exporter": "python",
   "pygments_lexer": "ipython3",
   "version": "3.11.6"
  }
 },
 "nbformat": 4,
 "nbformat_minor": 2
}
