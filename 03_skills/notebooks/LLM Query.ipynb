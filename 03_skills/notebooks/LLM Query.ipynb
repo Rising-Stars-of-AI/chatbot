{
 "cells": [
  {
   "cell_type": "markdown",
   "metadata": {},
   "source": [
    "# LLM Queries"
   ]
  },
  {
   "cell_type": "code",
   "execution_count": 1,
   "metadata": {},
   "outputs": [],
   "source": [
    "import semantic_kernel as sk\n",
    "\n",
    "kernel = sk.Kernel()"
   ]
  },
  {
   "cell_type": "code",
   "execution_count": 4,
   "metadata": {},
   "outputs": [
    {
     "name": "stdout",
     "output_type": "stream",
     "text": [
      "text completion: []\n",
      "chat completion: []\n",
      "text embedding:  []\n"
     ]
    }
   ],
   "source": [
    "print(f\"text completion: {kernel.all_text_completion_services()}\")\n",
    "print(f\"chat completion: {kernel.all_chat_services()}\")\n",
    "print(f\"text embedding:  {kernel.all_text_embedding_generation_services()}\")"
   ]
  },
  {
   "cell_type": "code",
   "execution_count": 5,
   "metadata": {},
   "outputs": [],
   "source": [
    "from semantic_kernel.connectors.ai.open_ai import (\n",
    "    OpenAIChatCompletion,\n",
    "    OpenAITextCompletion\n",
    ")"
   ]
  },
  {
   "cell_type": "code",
   "execution_count": 6,
   "metadata": {},
   "outputs": [],
   "source": [
    "chat_service = kernel.add_chat_service(\n",
    "    service_id = \"chat_completion\",\n",
    "    service=OpenAIChatCompletion(\n",
    "        model_id = \"gpt-3.5-turbo\",\n",
    "        api_key  = \"sk-019283740918732409817234\"   \n",
    "    )\n",
    ")"
   ]
  },
  {
   "cell_type": "code",
   "execution_count": 7,
   "metadata": {},
   "outputs": [
    {
     "name": "stdout",
     "output_type": "stream",
     "text": [
      "text completion: ['chat_completion']\n",
      "chat completion: ['chat_completion']\n",
      "text embedding:  []\n"
     ]
    }
   ],
   "source": [
    "print(f\"text completion: {kernel.all_text_completion_services()}\")\n",
    "print(f\"chat completion: {kernel.all_chat_services()}\")\n",
    "print(f\"text embedding:  {kernel.all_text_embedding_generation_services()}\")"
   ]
  },
  {
   "cell_type": "code",
   "execution_count": null,
   "metadata": {},
   "outputs": [],
   "source": []
  }
 ],
 "metadata": {
  "kernelspec": {
   "display_name": "genai",
   "language": "python",
   "name": "python3"
  },
  "language_info": {
   "codemirror_mode": {
    "name": "ipython",
    "version": 3
   },
   "file_extension": ".py",
   "mimetype": "text/x-python",
   "name": "python",
   "nbconvert_exporter": "python",
   "pygments_lexer": "ipython3",
   "version": "3.11.5"
  }
 },
 "nbformat": 4,
 "nbformat_minor": 2
}
